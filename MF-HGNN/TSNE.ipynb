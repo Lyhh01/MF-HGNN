{
 "cells": [
  {
   "cell_type": "code",
   "outputs": [
    {
     "name": "stdout",
     "output_type": "stream",
     "text": [
      " Using GPU in torch\n",
      "==========       CONFIG      =============\n",
      "train:1\n",
      "use_cpu:False\n",
      "lr:0.01\n",
      "wd:5e-05\n",
      "num_iter:400\n",
      "dropout:0.3\n",
      "num_classes:2\n",
      "n_folds:5\n",
      "ckpt_path:./\n",
      "log_path:./inffus_log.txt\n",
      "subject_IDs_path:/mnt/test_data/ABIDE_pcp/subject_IDs.txt\n",
      "phenotype_path:/mnt/test_data/ABIDE_pcp/Phenotypic_V1_0b_preprocessed1.csv\n",
      "data_path:/mnt/test_data/ABIDE_pcp/cpac/filt_noglobal\n",
      "alpha:0.65\n",
      "beta:1.5\n",
      "k1:0.9\n",
      "k2:0.5\n",
      "time:250409\n",
      "device:cuda:0\n",
      "==========     CONFIG END    =============\n",
      "\n",
      "\n",
      "===> Phase is train.\n"
     ]
    }
   ],
   "source": [
    "import sys\n",
    "import time\n",
    "from opt import *\n",
    "from metrics import accuracy, auc, prf, metrics\n",
    "from dataload import dataloader\n",
    "from model import fc_hgnn\n",
    "import os\n",
    "from dataload import LabelSmoothingLoss\n",
    "from dataload import Logger\n",
    "\n",
    "# Load preset initial parameters.\n",
    "opt = OptInit().initialize()\n",
    "\n",
    "# Create log text\n",
    "filename = opt.log_path\n",
    "log = Logger(filename)\n",
    "sys.stdout = log\n",
    "\n",
    "# Create a data loader.\n",
    "dl = dataloader()\n",
    "raw_features, y, nonimg, phonetic_score, time_series, dynamic_fc = dl.load_data()\n",
    "\n",
    "# Initializes the data partition for ten-fold cross-validation.\n",
    "n_folds = opt.n_folds\n",
    "cv_splits = dl.data_split(n_folds)\n",
    "\n",
    "# Create evaluation metrics\n",
    "corrects = np.zeros(n_folds, dtype=np.int32) \n",
    "accs = np.zeros(n_folds, dtype=np.float32) \n",
    "sens = np.zeros(n_folds, dtype=np.float32) \n",
    "spes = np.zeros(n_folds, dtype=np.float32) \n",
    "aucs = np.zeros(n_folds, dtype=np.float32)\n",
    "prfs = np.zeros([n_folds,3], dtype=np.float32)"
   ],
   "metadata": {
    "collapsed": false,
    "ExecuteTime": {
     "end_time": "2025-04-09T02:51:55.308077Z",
     "start_time": "2025-04-09T02:49:45.054726Z"
    }
   },
   "id": "ee6963638d4a1c25",
   "execution_count": 3
  },
  {
   "cell_type": "code",
   "outputs": [
    {
     "data": {
      "text/plain": "(array([  0,   2,   3,   5,   6,   7,   8,   9,  10,  11,  12,  13,  14,\n         15,  16,  17,  18,  19,  20,  21,  22,  23,  24,  25,  26,  28,\n         29,  30,  31,  32,  33,  35,  37,  38,  40,  41,  42,  44,  45,\n         47,  48,  49,  51,  52,  53,  54,  55,  56,  57,  59,  60,  62,\n         63,  64,  65,  66,  68,  69,  70,  71,  73,  75,  76,  77,  78,\n         79,  80,  81,  82,  83,  84,  85,  88,  90,  91,  92,  93,  94,\n         95,  98,  99, 100, 101, 102, 103, 104, 106, 108, 109, 111, 112,\n        114, 116, 117, 118, 119, 120, 121, 122, 123, 124, 125, 126, 127,\n        129, 130, 131, 132, 133, 134, 135, 136, 137, 139, 140, 141, 142,\n        143, 145, 146, 147, 150, 151, 152, 153, 155, 156, 158, 159, 160,\n        161, 162, 163, 164, 166, 167, 171, 172, 173, 174, 175, 176, 178,\n        179, 180, 181, 182, 183, 184, 185, 186, 187, 188, 189, 191, 192,\n        194, 195, 199, 200, 202, 203, 204, 205, 206, 207, 208, 209, 210,\n        211, 213, 214, 215, 216, 217, 218, 219, 220, 222, 223, 224, 225,\n        226, 227, 229, 230, 234, 235, 236, 237, 238, 240, 242, 243, 244,\n        246, 247, 248, 253, 254, 255, 256, 258, 259, 260, 261, 262, 264,\n        265, 266, 267, 268, 269, 270, 271, 272, 273, 274, 275, 276, 278,\n        279, 280, 281, 282, 283, 284, 285, 286, 287, 288, 289, 290, 291,\n        292, 293, 294, 295, 296, 297, 298, 299, 300, 301, 302, 303, 304,\n        306, 310, 312, 313, 316, 317, 318, 320, 321, 322, 323, 324, 325,\n        327, 328, 329, 330, 331, 332, 333, 334, 335, 336, 337, 338, 340,\n        341, 342, 343, 344, 345, 348, 349, 350, 351, 353, 355, 357, 359,\n        360, 361, 362, 363, 365, 366, 367, 368, 369, 370, 371, 372, 373,\n        374, 375, 376, 377, 378, 379, 380, 382, 383, 385, 386, 387, 388,\n        389, 390, 391, 392, 393, 394, 395, 396, 397, 398, 399, 400, 401,\n        402, 403, 405, 406, 407, 408, 409, 410, 411, 412, 413, 414, 416,\n        417, 418, 419, 420, 422, 423, 425, 426, 427, 428, 431, 432, 433,\n        434, 435, 436, 438, 440, 441, 442, 443, 444, 445, 446, 447, 448,\n        449, 450, 451, 452, 453, 454, 456, 457, 458, 459, 460, 461, 462,\n        463, 464, 466, 467, 468, 469, 470, 471, 472, 473, 474, 475, 476,\n        477, 479, 480, 482, 483, 484, 486, 487, 488, 489, 490, 491, 492,\n        493, 494, 495, 496, 497, 499, 500, 501, 502, 503, 505, 507, 509,\n        510, 511, 512, 513, 514, 516, 517, 518, 520, 521, 523, 528, 529,\n        530, 531, 532, 533, 534, 535, 536, 538, 539, 540, 541, 542, 543,\n        544, 546, 548, 549, 550, 551, 552, 553, 554, 556, 557, 559, 560,\n        562, 563, 564, 566, 567, 568, 569, 570, 571, 572, 573, 574, 576,\n        577, 578, 579, 582, 584, 585, 586, 587, 589, 590, 591, 592, 593,\n        595, 597, 598, 599, 601, 602, 603, 604, 605, 607, 608, 609, 610,\n        612, 613, 614, 615, 616, 617, 618, 619, 620, 621, 622, 623, 624,\n        625, 627, 628, 629, 630, 631, 634, 636, 637, 640, 641, 642, 645,\n        646, 647, 649, 650, 651, 652, 653, 654, 656, 657, 658, 659, 660,\n        662, 664, 665, 667, 668, 669, 670, 671, 672, 673, 674, 675, 676,\n        677, 678, 679, 680, 681, 682, 683, 684, 685, 687, 688, 694, 695,\n        696, 697, 698, 699, 700, 702, 703, 705, 706, 707, 708, 709, 710,\n        711, 712, 713, 714, 715, 718, 719, 720, 721, 723, 724, 726, 729,\n        731, 732, 733, 734, 735, 736, 737, 738, 739, 740, 741, 742, 743,\n        744, 745, 746, 747, 748, 749, 751, 752, 753, 754, 755, 756, 758,\n        762, 763, 764, 765, 766, 767, 768, 770, 771, 772, 773, 774, 775,\n        779, 780, 782, 783, 784, 786, 789, 791, 792, 795, 796, 797, 798,\n        799, 800, 801, 802, 804, 805, 806, 807, 808, 809, 810, 811, 812,\n        813, 814, 816, 817, 818, 820, 821, 822, 823, 824, 825, 826, 827,\n        829, 830, 831, 832, 833, 834, 835, 837, 839, 840, 841, 842, 843,\n        844, 845, 846, 848, 849, 850, 851, 852, 853, 854, 856, 859, 860,\n        861, 862, 865, 866, 868, 869, 870]),\n array([  1,   4,  27,  34,  36,  39,  43,  46,  50,  58,  61,  67,  72,\n         74,  86,  87,  89,  96,  97, 105, 107, 110, 113, 115, 128, 138,\n        144, 148, 149, 154, 157, 165, 168, 169, 170, 177, 190, 193, 196,\n        197, 198, 201, 212, 221, 228, 231, 232, 233, 239, 241, 245, 249,\n        250, 251, 252, 257, 263, 277, 305, 307, 308, 309, 311, 314, 315,\n        319, 326, 339, 346, 347, 352, 354, 356, 358, 364, 381, 384, 404,\n        415, 421, 424, 429, 430, 437, 439, 455, 465, 478, 481, 485, 498,\n        504, 506, 508, 515, 519, 522, 524, 525, 526, 527, 537, 545, 547,\n        555, 558, 561, 565, 575, 580, 581, 583, 588, 594, 596, 600, 606,\n        611, 626, 632, 633, 635, 638, 639, 643, 644, 648, 655, 661, 663,\n        666, 686, 689, 690, 691, 692, 693, 701, 704, 716, 717, 722, 725,\n        727, 728, 730, 750, 757, 759, 760, 761, 769, 776, 777, 778, 781,\n        785, 787, 788, 790, 793, 794, 803, 815, 819, 828, 836, 838, 847,\n        855, 857, 858, 863, 864, 867]))"
     },
     "execution_count": 38,
     "metadata": {},
     "output_type": "execute_result"
    }
   ],
   "source": [
    "cv_splits[0]"
   ],
   "metadata": {
    "collapsed": false,
    "ExecuteTime": {
     "end_time": "2025-04-09T03:28:52.816122Z",
     "start_time": "2025-04-09T03:28:52.806782Z"
    }
   },
   "id": "bc89f149308e533a",
   "execution_count": 38
  },
  {
   "cell_type": "code",
   "outputs": [
    {
     "data": {
      "text/plain": "tensor([0, 0, 0, 0, 0, 1, 1, 1, 1, 1, 1, 1, 1, 1, 1, 0, 0, 0, 0, 1, 1, 1, 1, 0,\n        0, 1, 1, 1, 1, 1, 1, 1, 1, 1, 1, 1, 1, 1, 1, 0, 0, 0, 0, 0, 0, 0, 0, 0,\n        0, 1, 1, 1, 1, 1, 1, 1, 1, 0, 0, 1, 1, 1, 0, 1, 1, 0, 0, 1, 1, 0, 0, 0,\n        0, 0, 1, 1, 0, 1, 0, 1, 0, 0, 1, 1, 0, 1, 0, 1, 1, 1, 1, 1, 1, 1, 1, 1,\n        1, 1, 1, 1, 1, 1, 1, 0, 0, 0, 0, 0, 0, 0, 0, 0, 0, 0, 0, 0, 0, 0, 0, 1,\n        1, 1, 1, 1, 1, 1, 0, 0, 0, 0, 0, 0, 0, 0, 1, 1, 1, 1, 1, 1, 1, 1, 1, 1,\n        1, 1, 1, 1, 1, 0, 0, 0, 0, 0, 0, 0, 1, 1, 1, 1, 1, 0, 0, 0, 0, 0, 0, 0,\n        0, 0, 0, 0, 0, 0, 0, 0, 0, 0, 0, 0, 0, 0, 0, 0, 0, 0, 0, 0, 0, 0, 0, 0,\n        0, 0, 0, 0, 0, 0, 0, 0, 0, 0, 0, 0, 0, 0, 0, 0, 0, 0, 0, 0, 0, 0, 0, 0,\n        0, 0, 0, 0, 0, 0, 0, 0, 0, 0, 0, 0, 0, 0, 0, 0, 0, 0, 0, 1, 1, 1, 1, 1,\n        1, 1, 1, 1, 1, 1, 1, 1, 1, 1, 1, 1, 1, 1, 1, 1, 1, 1, 1, 1, 1, 1, 1, 1,\n        1, 1, 1, 1, 1, 1, 1, 1, 1, 1, 1, 1, 1, 1, 1, 1, 1, 1, 1, 1, 1, 1, 1, 1,\n        1, 1, 1, 1, 1, 1, 1, 1, 1, 1, 1, 1, 1, 1, 1, 1, 1, 1, 1, 1, 1, 1, 1, 1,\n        1, 1, 1, 1, 1, 1, 1, 1, 1, 1, 1, 1, 1, 1, 1, 1, 1, 1, 1, 1, 1, 0, 0, 0,\n        0, 0, 0, 0, 0, 0, 0, 0, 0, 1, 1, 1, 1, 1, 1, 1, 1, 1, 1, 1, 1, 1, 1, 1,\n        1, 1, 1, 1, 1, 1, 1, 1, 1, 1, 1, 1, 0, 0, 0, 0, 0, 0, 0, 0, 0, 0, 0, 0,\n        0, 0, 0, 0, 0, 0, 0, 0, 0, 0, 0, 0, 0, 0, 0, 0, 0, 0, 0, 0, 0, 0, 0, 1,\n        1, 1, 1, 1, 1, 1, 1, 1, 1, 1, 1, 1, 1, 1, 1, 1, 1, 1, 1, 1, 1, 1, 0, 1,\n        0, 0, 1, 1, 1, 1, 1, 1, 1, 1, 1, 1, 1, 1, 1, 1, 1, 1, 0, 0, 0, 0, 0, 0,\n        0, 0, 0, 0, 0, 0, 0, 0, 0, 0, 0, 0, 0, 0, 1, 1, 1, 1, 1, 1, 1, 1, 1, 1,\n        1, 1, 1, 1, 1, 1, 1, 1, 1, 0, 0, 0, 0, 0, 0, 0, 0, 0, 0, 0, 0, 1, 1, 1,\n        1, 1, 1, 1, 1, 1, 1, 1, 1, 1, 0, 0, 0, 0, 0, 0, 0, 0, 0, 0, 0, 0, 0, 0,\n        0, 0, 0, 0, 0, 1, 1, 1, 1, 1, 1, 1, 1, 1, 1, 1, 1, 1, 1, 1, 1, 1, 1, 1,\n        1, 1, 1, 1, 1, 1, 0, 0, 0, 0, 0, 0, 0, 0, 0, 0, 0, 0, 0, 0, 0, 0, 0, 0,\n        0, 0, 0, 0, 0, 0, 0, 0, 0, 0, 0, 0, 0, 0, 0, 0, 0, 0, 0, 1, 1, 1, 1, 1,\n        1, 1, 1, 1, 1, 1, 1, 1, 1, 1, 1, 1, 1, 1, 1, 1, 1, 1, 1, 1, 1, 1, 0, 0,\n        0, 0, 0, 0, 0, 0, 0, 0, 0, 1, 1, 1, 1, 1, 1, 1, 1, 1, 1, 0, 0, 0, 0, 0,\n        0, 0, 0, 0, 0, 0, 0, 0, 0, 0, 0, 0, 0, 0, 0, 0, 0, 0, 0, 0, 0, 0, 0, 0,\n        0, 0, 0, 0, 0, 1, 1, 1, 1, 1, 1, 1, 1, 1, 1, 1, 1, 1, 1, 1, 1, 1, 1, 1,\n        1, 1, 1, 1, 1, 1, 1, 1, 1, 1, 1, 1, 1, 1, 1, 1, 1, 1, 1, 1, 1, 1, 1, 1,\n        1, 1, 1, 1, 1, 1, 1, 1, 1, 1, 1, 1, 1, 1, 1, 1, 1, 0, 0, 0, 0, 0, 0, 0,\n        0, 0, 0, 0, 0, 0, 1, 1, 1, 1, 1, 1, 1, 1, 1, 1, 1, 1, 1, 1, 1, 1, 1, 1,\n        1, 1, 1, 1, 1, 1, 1, 1, 1, 1, 1, 1, 1, 1, 1, 1, 1, 1, 1, 0, 0, 0, 0, 0,\n        0, 0, 0, 0, 0, 0, 0, 0, 0, 0, 0, 0, 0, 0, 0, 0, 0, 0, 0, 0, 0, 0, 0, 0,\n        0, 0, 0, 0, 0, 0, 0, 0, 0, 0, 0, 0, 0, 0, 1, 1, 1, 1, 1, 1, 1, 1, 1, 1,\n        1, 1, 1, 1, 1, 1, 1, 1, 1, 0, 0, 0, 0, 0, 0, 0, 0, 0, 0, 0, 0, 0, 0, 0,\n        0, 0, 0, 0, 0, 0, 0], device='cuda:0')"
     },
     "execution_count": 40,
     "metadata": {},
     "output_type": "execute_result"
    }
   ],
   "source": [
    "labels = torch.tensor(y, dtype=torch.long).to(opt.device)\n",
    "labels"
   ],
   "metadata": {
    "collapsed": false,
    "ExecuteTime": {
     "end_time": "2025-04-09T03:32:08.515327Z",
     "start_time": "2025-04-09T03:32:08.493174Z"
    }
   },
   "id": "e69a5293fbcdcf08",
   "execution_count": 40
  },
  {
   "cell_type": "code",
   "outputs": [
    {
     "data": {
      "text/plain": "torch.Size([871, 12321])"
     },
     "execution_count": 31,
     "metadata": {},
     "output_type": "execute_result"
    }
   ],
   "source": [
    "embeddings = []\n",
    "for graph in raw_features:\n",
    "    embedding= graph.x.reshape(1,-1)\n",
    "    embeddings.append(embedding)\n",
    "embeddings = torch.cat(tuple(embeddings))\n",
    "embeddings.shape"
   ],
   "metadata": {
    "collapsed": false,
    "ExecuteTime": {
     "end_time": "2025-04-09T03:21:11.921471Z",
     "start_time": "2025-04-09T03:21:11.862750Z"
    }
   },
   "id": "519bc550c75b61aa",
   "execution_count": 31
  },
  {
   "cell_type": "code",
   "outputs": [],
   "source": [
    "# 将 torch 张量转换为 numpy 数组\n",
    "embeddings_np = embeddings.numpy()\n",
    "\n",
    "# 使用 t-SNE 将特征映射到二维空间\n",
    "tsne = TSNE(n_components=2, perplexity=55, learning_rate=5, n_iter=5000)\n",
    "tsne_embeddings = tsne.fit_transform(embeddings_np)\n",
    "\n",
    "# 定义颜色映射\n",
    "colors = {0: 'red', 1: 'blue'}\n",
    "label_colors = [colors[int(label.cpu())] for label in labels]\n",
    "\n",
    "# 可视化 t-SNE 结果\n",
    "plt.scatter(tsne_embeddings[:, 0], tsne_embeddings[:, 1], c=label_colors)\n",
    "plt.title('t-SNE Visualization of Original Embeddings')\n",
    "plt.xlabel('t-SNE Dimension 1')\n",
    "plt.ylabel('t-SNE Dimension 2')\n",
    "\n",
    "# 添加图例\n",
    "legend_elements = [\n",
    "    plt.Line2D([0], [0], marker='o', color='w', label='ASD', markerfacecolor='red', markersize=10),\n",
    "    plt.Line2D([0], [0], marker='o', color='w', label='HC', markerfacecolor='blue', markersize=10)\n",
    "]\n",
    "plt.legend(handles=legend_elements)\n",
    "\n",
    "plt.show()"
   ],
   "metadata": {
    "collapsed": false,
    "is_executing": true
   },
   "id": "d5a9404e550e719a",
   "execution_count": null
  },
  {
   "cell_type": "code",
   "outputs": [],
   "source": [
    "# The training set and test set in this fold.\n",
    "train_ind = cv_splits[0][0]\n",
    "test_ind = cv_splits[0][1]\n",
    "\n",
    "# The labels and model in this fold.\n",
    "labels = torch.tensor(y, dtype=torch.long).to(opt.device)\n",
    "model = fc_hgnn(nonimg, phonetic_score).to(opt.device)\n",
    "print(model)\n",
    "\n",
    "# The loss function in this fold.\n",
    "# We found that the use of the label smoothing function provided a modest performance boost.\n",
    "# The cross-entropy function is used in this paper.\n",
    "loss_fn = torch.nn.CrossEntropyLoss()\n",
    "# loss_fn =LabelSmoothingLoss()\n",
    "\n",
    "optimizer = torch.optim.Adam(model.parameters(), lr=opt.lr, weight_decay=opt.wd)\n",
    "fold_model_path = opt.ckpt_path + r\"\\inffus_fold{}.pth\".format(fold)\n",
    "\n",
    "# The train function.\n",
    "def train():\n",
    "    acc = 0\n",
    "    for epoch in range(opt.num_iter):\n",
    "        # Model training in this epoch.\n",
    "        model.train()\n",
    "        optimizer.zero_grad()\n",
    "        with torch.set_grad_enabled(True):\n",
    "            node_logits = model(raw_features, time_series, dynamic_fc)\n",
    "            loss_cla = loss_fn(node_logits[train_ind], labels[train_ind])\n",
    "            loss = loss_cla\n",
    "            loss.backward()\n",
    "            optimizer.step()\n",
    "        correct_train, acc_train = accuracy(node_logits[train_ind].detach().cpu().numpy(), y[train_ind])\n",
    "\n",
    "        # Model evaluating in this epoch.\n",
    "        model.eval()\n",
    "        with torch.set_grad_enabled(False):\n",
    "            node_logits= model(raw_features, time_series, dynamic_fc)\n",
    "        logits_test = node_logits[test_ind].detach().cpu().numpy()\n",
    "        correct_test, acc_test = accuracy(logits_test, y[test_ind])\n",
    "        test_sen, test_spe = metrics(logits_test, y[test_ind])\n",
    "        auc_test = auc(logits_test,y[test_ind])\n",
    "        prf_test = prf(logits_test,y[test_ind])\n",
    "\n",
    "        # Output the training and test results of this epoch.\n",
    "        print(\"Epoch: {},\\tce loss: {:.5f},\\tce loss_cla: {:.5f},\\ttrain acc: {:.5f},\\ttest acc: {:.5f},\\ttest spe: {:.5f},\\ttest sen: {:.5f}     \".format(epoch, loss.item(),loss_cla.item(),acc_train.item(),acc_test.item(),test_spe,test_sen),time.strftime(\"%Y-%m-%d %H:%M:%S\", time.localtime(time.time())))\n",
    "\n",
    "        # Save the best results and parameters so far.\n",
    "        if acc_test > acc:\n",
    "            acc = acc_test\n",
    "            correct = correct_test\n",
    "            aucs[fold] = auc_test\n",
    "            prfs[fold] = prf_test\n",
    "            sens[fold] = test_sen\n",
    "            spes[fold] = test_spe\n",
    "            if opt.ckpt_path != '':\n",
    "                if not os.path.exists(opt.ckpt_path):\n",
    "                    os.makedirs(opt.ckpt_path)\n",
    "                torch.save(model.state_dict(), fold_model_path)\n",
    "                print(\"{} Saved model to:{}\".format(\"\\u2714\", fold_model_path))\n",
    "\n",
    "    # Output the test results of this fold.\n",
    "    accs[fold] = acc\n",
    "    corrects[fold] = correct\n",
    "    print(\"\\r\\n => Fold {} test accuacry {:.5f}\".format(fold, acc))\n",
    "\n",
    "\n",
    "# The evaluate function.\n",
    "def evaluate():\n",
    "    print(\"  Number of testing samples %d\" % len(test_ind))\n",
    "    print('  Start testing...')\n",
    "    model.load_state_dict(torch.load(fold_model_path))\n",
    "    model.eval()\n",
    "    node_logits = model(raw_features, time_series, dynamic_fc)\n",
    "    logits_test = node_logits[test_ind].detach().cpu().numpy()\n",
    "    corrects[fold], accs[fold] = accuracy(logits_test, y[test_ind])\n",
    "    sens[fold], spes[fold] = metrics(logits_test, y[test_ind])\n",
    "    aucs[fold] = auc(logits_test, y[test_ind])\n",
    "    prfs[fold] = prf(logits_test, y[test_ind])\n",
    "    print(\"  Fold {} test accuracy {:.5f}, AUC {:.5f},\".format(fold, accs[fold], aucs[fold]))\n",
    "\n",
    "# Select the model for training or evaluation.\n",
    "train()"
   ],
   "metadata": {
    "collapsed": false,
    "ExecuteTime": {
     "end_time": "2025-04-09T02:48:00.047988Z",
     "start_time": "2025-04-09T02:45:44.275493Z"
    }
   },
   "id": "226d24ac13c350f2",
   "execution_count": 2
  },
  {
   "cell_type": "code",
   "outputs": [],
   "source": [
    "import pandas as pd\n",
    "import numpy as np\n",
    "from sklearn.manifold import TSNE\n",
    "import torch\n",
    "import matplotlib.pyplot as plt\n",
    "from sklearn.model_selection import train_test_split\n",
    "\n",
    "\n",
    "# 假设这是你的模型类\n",
    "class FC_HGNN:\n",
    "    def __init__(self):\n",
    "        # 初始化模型参数\n",
    "        pass\n",
    "\n",
    "    def forward(self, x):\n",
    "        # 模型前向传播\n",
    "        return x\n",
    "\n",
    "\n",
    "# 加载数据，这里假设数据已经被预处理成合适的形式\n",
    "# 示例数据，实际使用时请替换为真实数据\n",
    "data = pd.read_csv('your_data.csv')\n",
    "X = data.drop('label', axis=1).values\n",
    "y = data['label'].values\n",
    "X_train, X_test, y_train, y_test = train_test_split(X, y, test_size=0.2, random_state=42)\n",
    "\n",
    "# 将数据转换为torch张量\n",
    "X_train_tensor = torch.tensor(X_train, dtype=torch.float32)\n",
    "X_test_tensor = torch.tensor(X_test, dtype=torch.float32)\n",
    "\n",
    "# 初始化模型\n",
    "model = FC_HGNN()\n",
    "\n",
    "# 获取学习前的特征\n",
    "X_train_before = X_train\n",
    "X_test_before = X_test\n",
    "\n",
    "# 通过模型获取学习后的特征\n",
    "with torch.no_grad():\n",
    "    X_train_after = model.forward(X_train_tensor).numpy()\n",
    "    X_test_after = model.forward(X_test_tensor).numpy()\n",
    "\n",
    "# 使用t-SNE进行特征映射\n",
    "tsne = TSNE(n_components=2, random_state=42)\n",
    "X_train_before_tsne = tsne.fit_transform(X_train_before)\n",
    "X_test_before_tsne = tsne.transform(X_test_before)\n",
    "X_train_after_tsne = tsne.fit_transform(X_train_after)\n",
    "X_test_after_tsne = tsne.transform(X_test_after)\n",
    "\n",
    "\n",
    "# 绘制学习前的样本嵌入表示\n",
    "plt.figure(figsize=(12, 6))\n",
    "plt.subplot(1, 2, 1)\n",
    "plt.scatter(X_train_before_tsne[:, 0], X_train_before_tsne[:, 1], c=y_train, cmap='viridis')\n",
    "plt.title('Before learning - Training data')\n",
    "plt.xlabel('t-SNE dimension 1')\n",
    "plt.ylabel('t-SNE dimension 2')\n",
    "\n",
    "plt.subplot(1, 2, 2)\n",
    "plt.scatter(X_test_before_tsne[:, 0], X_test_before_tsne[:, 1], c=y_test, cmap='viridis')\n",
    "plt.title('Before learning - Test data')\n",
    "plt.xlabel('t-SNE dimension 1')\n",
    "plt.ylabel('t-SNE dimension 2')\n",
    "\n",
    "plt.show()\n",
    "\n",
    "\n",
    "# 绘制学习后的样本嵌入表示\n",
    "plt.figure(figsize=(12, 6))\n",
    "plt.subplot(1, 2, 1)\n",
    "plt.scatter(X_train_after_tsne[:, 0], X_train_after_tsne[:, 1], c=y_train, cmap='viridis')\n",
    "plt.title('After learning - Training data')\n",
    "plt.xlabel('t-SNE dimension 1')\n",
    "plt.ylabel('t-SNE dimension 2')\n",
    "\n",
    "plt.subplot(1, 2, 2)\n",
    "plt.scatter(X_test_after_tsne[:, 0], X_test_after_tsne[:, 1], c=y_test, cmap='viridis')\n",
    "plt.title('After learning - Test data')\n",
    "plt.xlabel('t-SNE dimension 1')\n",
    "plt.ylabel('t-SNE dimension 2')\n",
    "\n",
    "plt.show()"
   ],
   "metadata": {
    "collapsed": false
   },
   "id": "77377b3ba3ffc55a"
  }
 ],
 "metadata": {
  "kernelspec": {
   "display_name": "Python 3",
   "language": "python",
   "name": "python3"
  },
  "language_info": {
   "codemirror_mode": {
    "name": "ipython",
    "version": 2
   },
   "file_extension": ".py",
   "mimetype": "text/x-python",
   "name": "python",
   "nbconvert_exporter": "python",
   "pygments_lexer": "ipython2",
   "version": "2.7.6"
  }
 },
 "nbformat": 4,
 "nbformat_minor": 5
}
